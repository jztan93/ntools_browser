{
 "cells": [
  {
   "cell_type": "code",
   "execution_count": 1,
   "id": "4357e361-ced6-4751-bb4a-6119dca8cfee",
   "metadata": {},
   "outputs": [
    {
     "name": "stdout",
     "output_type": "stream",
     "text": [
      "Populating the interactive namespace from numpy and matplotlib\n"
     ]
    }
   ],
   "source": [
    "#!/usr/bin/env python\n",
    "# coding: utf-8\n",
    "get_ipython().run_line_magic('pylab', 'inline')\n",
    "import nibabel as nib\n",
    "import json\n",
    "\n",
    "with open('./sample.json') as f:\n",
    "    electrode_data = json.load(f)\n",
    "\n",
    "number_of_electrodes = len(electrode_data['elecID'])"
   ]
  },
  {
   "cell_type": "code",
   "execution_count": 2,
   "id": "4cf62290-e377-4bb3-899e-01bb525d28bc",
   "metadata": {},
   "outputs": [],
   "source": [
    "class Electrode:\n",
    "    def __init__(self, xCoor, yCoor, zCoor, seizType):\n",
    "        self.xCoor = xCoor\n",
    "        self.yCoor = yCoor\n",
    "        self.zCoor = zCoor\n",
    "        self.seizType = seizType\n",
    "        \n",
    "\n",
    "electrode_objects = []\n",
    "for index in range(number_of_electrodes):\n",
    "    xCoor = electrode_data['coorX'][index]\n",
    "    yCoor = electrode_data['coorY'][index]\n",
    "    zCoor = electrode_data['coorZ'][index]\n",
    "    seizType = electrode_data['seizType'][index]\n",
    "    electrode_objects.append(Electrode(xCoor, yCoor, zCoor, seizType))"
   ]
  },
  {
   "cell_type": "code",
   "execution_count": 3,
   "id": "3695c0a6-aee8-48db-b386-d24e8df751c7",
   "metadata": {},
   "outputs": [],
   "source": [
    "def map_interval(input_val, input_range, output_range):\n",
    "    (input_start, input_end) = input_range\n",
    "    (output_start, output_end) = output_range\n",
    "    \n",
    "    return output_start + ((output_end - output_start) / (input_end - input_start)) * (input_val - input_start)"
   ]
  },
  {
   "cell_type": "code",
   "execution_count": 12,
   "id": "142de936-c84e-43d4-bd10-e3cc609f737b",
   "metadata": {},
   "outputs": [
    {
     "data": {
      "text/plain": [
       "array([[  -1.,    0.,    0.,  128.],\n",
       "       [   0.,    0.,    1., -128.],\n",
       "       [   0.,   -1.,    0.,  128.],\n",
       "       [   0.,    0.,    0.,    1.]])"
      ]
     },
     "execution_count": 12,
     "metadata": {},
     "output_type": "execute_result"
    }
   ],
   "source": [
    "vol = './T1.nii'\n",
    "\n",
    "volume = nib.load(vol)\n",
    "labels = np.zeros((volume.shape[0], volume.shape[1], volume.shape[2]), dtype=np.uint8)\n",
    "\n",
    "\n",
    "r = 3 # maybe switch to scikit image draw\n",
    "\n",
    "for electrode in electrode_objects:\n",
    "    first_interval = (-127.5, 127.5)\n",
    "    second_interval = (0, 255)\n",
    "    mapped_xCoor = int(round(map_interval(electrode.xCoor, first_interval, second_interval)))\n",
    "    mapped_yCoor = int(round(map_interval(electrode.yCoor, first_interval, second_interval)))\n",
    "    mapped_zCoor = int(round(map_interval(electrode.zCoor, first_interval, second_interval)))\n",
    "    \n",
    "    if electrode.seizType == 'Onset':\n",
    "        labels[mapped_xCoor:mapped_xCoor+r, mapped_yCoor:mapped_yCoor+r, mapped_zCoor:mapped_zCoor+r] = 5\n",
    "        \n",
    "    elif electrode.seizType == 'Early Spread':\n",
    "        labels[mapped_xCoor:mapped_xCoor+r, mapped_yCoor:mapped_yCoor+r, mapped_zCoor:mapped_zCoor+r] = 9\n",
    "\n",
    "    elif electrode.seizType == 'Late Spread':\n",
    "        labels[mapped_xCoor:mapped_xCoor+r, mapped_yCoor:mapped_yCoor+r, mapped_zCoor:mapped_zCoor+r] = 7\n",
    "        \n",
    "    else:\n",
    "        labels[mapped_xCoor:mapped_xCoor+r, mapped_yCoor:mapped_yCoor+r, mapped_zCoor:mapped_zCoor+r] = 11\n",
    "\n",
    "# store the labelmap\n",
    "labelmap = nib.Nifti1Image(labels, volume.affine)\n",
    "nib.save(labelmap, 'labels.nii')\n",
    "\n",
    "volume.affine"
   ]
  },
  {
   "cell_type": "code",
   "execution_count": null,
   "id": "b1bdd4a2",
   "metadata": {},
   "outputs": [],
   "source": []
  }
 ],
 "metadata": {
  "kernelspec": {
   "display_name": "Python 3 (ipykernel)",
   "language": "python",
   "name": "python3"
  },
  "language_info": {
   "codemirror_mode": {
    "name": "ipython",
    "version": 3
   },
   "file_extension": ".py",
   "mimetype": "text/x-python",
   "name": "python",
   "nbconvert_exporter": "python",
   "pygments_lexer": "ipython3",
   "version": "3.9.7"
  }
 },
 "nbformat": 4,
 "nbformat_minor": 5
}
